{
 "cells": [
  {
   "cell_type": "code",
   "execution_count": 1,
   "metadata": {},
   "outputs": [
    {
     "data": {
      "image/png": "[encoded data removed]",
      "text/plain": [
       "<Figure size 640x480 with 1 Axes>"
      ]
     },
     "metadata": {},
     "output_type": "display_data"
    }
   ],
   "source": [
    "import numpy as np\n",
    "import matplotlib.pyplot as plt\n",
    "\n",
    "# Parámetros de la imagen\n",
    "icon_width = 50\n",
    "icon_height = 28\n",
    "\n",
    "# Datos en formato XBM\n",
    "icon_bits = [\n",
    "    0x00, 0x00, 0x00, 0x00, 0x00, 0x00, 0x00, 0x00, 0x80, 0x03, 0x00, 0x03, \n",
    "    0x00, 0x00, 0x00, 0x80, 0x07, 0xC0, 0x07, 0x00, 0x00, 0x00, 0xC0, 0x1F, \n",
    "    0xC0, 0x0F, 0x00, 0x00, 0x00, 0xE0, 0x0F, 0xE0, 0x0F, 0x00, 0x00, 0x00, \n",
    "    0xE0, 0x0F, 0xF0, 0x1F, 0x00, 0x00, 0x00, 0xF0, 0x07, 0xF0, 0x3F, 0x00, \n",
    "    0x00, 0x00, 0xF8, 0x03, 0xF8, 0x7F, 0x00, 0x00, 0x00, 0xF8, 0x03, 0xFC, \n",
    "    0x7F, 0x00, 0x00, 0x00, 0xFC, 0x01, 0xFC, 0xFE, 0x00, 0x00, 0x00, 0xFE, \n",
    "    0x00, 0xFE, 0xFC, 0x01, 0x00, 0x00, 0xFE, 0x00, 0x7F, 0xFC, 0x01, 0x00, \n",
    "    0x00, 0x7F, 0x00, 0x3F, 0xF8, 0x03, 0x00, 0x80, 0x3F, 0x80, 0x3F, 0xF0, \n",
    "    0x07, 0x00, 0x80, 0x3F, 0xC0, 0x1F, 0xF0, 0x07, 0x00, 0xC0, 0x1F, 0xC0, \n",
    "    0x0F, 0xE0, 0x0F, 0x00, 0xE0, 0x0F, 0xE0, 0x0F, 0xC0, 0x1F, 0x00, 0xE0, \n",
    "    0x0F, 0xF0, 0x07, 0x80, 0x1F, 0x00, 0xF0, 0x07, 0xF8, 0x03, 0x80, 0x3F, \n",
    "    0x00, 0xF8, 0x03, 0xF8, 0x03, 0x00, 0x7F, 0x00, 0xFC, 0x03, 0xFC, 0x01, \n",
    "    0x00, 0x7E, 0x00, 0xFC, 0x01, 0xFE, 0x00, 0x00, 0xFE, 0x00, 0xFE, 0x00, \n",
    "    0xFE, 0x00, 0x00, 0xFC, 0x01, 0x7E, 0x00, 0x7F, 0x00, 0x00, 0xF8, 0x01, \n",
    "    0x7E, 0x00, 0x3E, 0x00, 0x00, 0xF8, 0x01, 0x38, 0x00, 0x3C, 0x00, 0x00, \n",
    "    0x70, 0x00, 0x10, 0x00, 0x10, 0x00, 0x00, 0x20, 0x00, 0x00, 0x00, 0x00, \n",
    "    0x00, 0x00, 0x00, 0x00\n",
    "]\n",
    "\n",
    "\n",
    "# Convertir XBM a matriz de píxeles\n",
    "width_bytes = (icon_width + 7) // 8\n",
    "data = np.zeros((icon_height, icon_width), dtype=np.uint8)\n",
    "\n",
    "for y in range(icon_height):\n",
    "    for x in range(icon_width):\n",
    "        byte_index = y * width_bytes + x // 8\n",
    "        bit_index = x % 8\n",
    "        if (icon_bits[byte_index] >> bit_index) & 1:\n",
    "            data[y, x] = 1\n",
    "\n",
    "# Mostrar la imagen\n",
    "plt.imshow(data, cmap='gray', interpolation='nearest')\n",
    "plt.axis('off')\n",
    "plt.show()"
   ]
  },
  {
   "cell_type": "code",
   "execution_count": 4,
   "metadata": {},
   "outputs": [],
   "source": [
    "from PIL import Image\n",
    "\n",
    "# Parámetros de la imagen\n",
    "icon_width = 50\n",
    "icon_height = 28\n",
    "\n",
    "# Cargar la imagen BMP y convertir a escala de grises\n",
    "image = Image.open(\"d:\\onedrive\\proyectos\\meshtastic/art.png\").convert(\"L\")\n",
    "\n",
    "# Redimensionar la imagen a las dimensiones deseadas\n",
    "image = image.resize((icon_width, icon_height))\n",
    "\n",
    "# Convertir la imagen en una matriz binaria (0 para blanco, 1 para negro)\n",
    "binary_image = np.array(image) > 128  # Asumimos que los píxeles más oscuros son los que deben ser 1\n",
    "\n",
    "# Convertir la matriz binaria a formato XBM\n",
    "width_bytes = (icon_width + 7) // 8\n"
   ]
  },
  {
   "cell_type": "code",
   "execution_count": 5,
   "metadata": {},
   "outputs": [
    {
     "name": "stdout",
     "output_type": "stream",
     "text": [
      "0x00, 0x8C, 0x01, 0x00, 0x00, 0x00, 0x00, 0x00, 0x88, 0x01, 0x00, 0x00, 0x00, 0x00, 0x00, 0x48, 0x02, 0x00, 0x00, 0x00, 0x00, 0x00, 0x48, 0x02, 0x00, 0x00, 0x00, 0x00, 0x40, 0xC8, 0x03, 0x00, 0x00, 0x00, 0x00, 0x80, 0x68, 0x06, 0x00, 0x00, 0x00, 0x00, 0x90, 0x28, 0x04, 0x00, 0x00, 0x00, 0x00, 0xA0, 0x08, 0x00, 0x00, 0x00, 0x00, 0x00, 0xA0, 0x0E, 0x00, 0x00, 0x00, 0x00, 0x00, 0xA0, 0xE7, 0x01, 0x00, 0x00, 0x00, 0x00, 0xE0, 0x2B, 0x02, 0x00, 0x00, 0x00, 0x00, 0xE0, 0x2C, 0x02, 0x00, 0x00, 0x00, 0x00, 0x30, 0x2F, 0x02, 0x00, 0x00, 0x00, 0x00, 0x9C, 0xEF, 0x01, 0x00, 0x00, 0x00, 0x00, 0xE6, 0x2F, 0x02, 0x00, 0x00, 0x00, 0x00, 0xF0, 0x2F, 0x02, 0x00, 0x00, 0x00, 0x00, 0xFC, 0x2F, 0x02, 0x00, 0x00, 0x00, 0x00, 0xFE, 0x0F, 0x00, 0x00, 0x00, 0x00, 0x00, 0xFE, 0x0F, 0x00, 0x00, 0x00, 0x00, 0x00, 0xFC, 0xEF, 0x03, 0x00, 0x00, 0x00, 0x00, 0xFC, 0x8F, 0x00, 0x00, 0x00, 0x00, 0x00, 0xF8, 0x8F, 0x00, 0x00, 0x00, 0x00, 0x00, 0xF0, 0x8F, 0x00, 0x00, 0x00, 0x00, 0x00, 0xC0, 0x8F, 0x00, 0x00, 0x00, 0x00, 0x00, 0x00, 0x8F, 0x00, 0x00, 0x00, 0x00, 0x00, 0x00, 0x8C, 0x00, 0x00, 0x00, 0x00, 0x00, 0x00, 0x88, 0x00, 0x00, 0x00, 0x00, 0x00, 0x00, 0x00, 0x00, 0x00, 0x00, 0x00, 0x00, "
     ]
    }
   ],
   "source": [
    "icon_bits = []\n",
    "\n",
    "for y in range(icon_height):\n",
    "    row = 0\n",
    "    for x in range(icon_width):\n",
    "        # Asegurarse de colocar el bit más significativo a la izquierda (como en XBM)\n",
    "        if binary_image[y, x]:\n",
    "            row |= (binary_image[y, x] << (x % 8))  # Cambia (7 - (x % 8)) por (x % 8)\n",
    "        if (x + 1) % 8 == 0 or x == icon_width - 1:  # Cada 8 bits, se guarda la fila\n",
    "            icon_bits.append(row)\n",
    "            row = 0  # Resetear fila\n",
    "\n",
    "\n",
    "# Convertir a array de numpy para usarlo con el código original\n",
    "icon_bits = np.array(icon_bits, dtype=np.uint8)\n",
    "\n",
    "for byte in icon_bits:\n",
    "    print(f\"0x{byte:02X},\", end=\" \")"
   ]
  },
  {
   "cell_type": "code",
   "execution_count": 6,
   "metadata": {},
   "outputs": [
    {
     "data": {
      "image/png": "[encoded data removed]",
      "text/plain": [
       "<Figure size 640x480 with 1 Axes>"
      ]
     },
     "metadata": {},
     "output_type": "display_data"
    }
   ],
   "source": [
    "# Convertir XBM a matriz de píxeles\n",
    "width_bytes = (icon_width + 7) // 8\n",
    "data = np.zeros((icon_height, icon_width), dtype=np.uint8)\n",
    "\n",
    "for y in range(icon_height):\n",
    "    for x in range(icon_width):\n",
    "        byte_index = y * width_bytes + x // 8\n",
    "        bit_index = x % 8\n",
    "        if (icon_bits[byte_index] >> bit_index) & 1:\n",
    "            data[y, x] = 1\n",
    "\n",
    "# Mostrar la imagen\n",
    "plt.imshow(data, cmap='gray', interpolation='nearest')\n",
    "plt.axis('off')\n",
    "plt.show()"
   ]
  },
  {
   "cell_type": "code",
   "execution_count": null,
   "metadata": {},
   "outputs": [],
   "source": []
  },
  {
   "cell_type": "code",
   "execution_count": null,
   "metadata": {},
   "outputs": [],
   "source": []
  }
 ],
 "metadata": {
  "kernelspec": {
   "display_name": "Python 3",
   "language": "python",
   "name": "python3"
  },
  "language_info": {
   "codemirror_mode": {
    "name": "ipython",
    "version": 3
   },
   "file_extension": ".py",
   "mimetype": "text/x-python",
   "name": "python",
   "nbconvert_exporter": "python",
   "pygments_lexer": "ipython3",
   "version": "3.11.3"
  }
 },
 "nbformat": 4,
 "nbformat_minor": 2
}
